{
  "nbformat": 4,
  "nbformat_minor": 0,
  "metadata": {
    "colab": {
      "provenance": [],
      "include_colab_link": true
    },
    "kernelspec": {
      "name": "python3",
      "display_name": "Python 3"
    },
    "language_info": {
      "name": "python"
    }
  },
  "cells": [
    {
      "cell_type": "markdown",
      "metadata": {
        "id": "view-in-github",
        "colab_type": "text"
      },
      "source": [
        "<a href=\"https://colab.research.google.com/github/giorgisi/giorgis-NEUR265/blob/main/homework/coding_homework_1.ipynb\" target=\"_parent\"><img src=\"https://colab.research.google.com/assets/colab-badge.svg\" alt=\"Open In Colab\"/></a>"
      ]
    },
    {
      "cell_type": "markdown",
      "source": [
        "# Coding Homework #1\n",
        "\n",
        "**Instructions** (Note: it is very important you follow these instructions in order!)\n",
        "\n",
        "1. Run the first *Code Cell* below.\n",
        "\n",
        "2. Make a *Markdown Cell* that contains the following information:\n",
        "  * Your name (small header)\n",
        "  * The name of this class (italicized)\n",
        "  * The date (bolded)\n",
        "\n",
        "3. **Important!**: For each *Code Cell* that you create, make at least one line of code with a `#` in front of it that describes what your code does.\n",
        "\n",
        "4. Make a *Code Cell* that turns `v_rest_sst.csv` into a `Pandas DataFrame` called `pandas_data1`, and `v_rest_pvalb.csv` into a `Pandas DataFrame` called `pandas_data2`. Recall that we covered how to import `.csv` files as `Pandas DataFrames` in our in-class coding activity on January 31st.\n",
        "\n",
        "5. Make a *Code Cell* that converts `pandas_data1` into a `list` variable called `data1`, and converts `pandas_data2` into a `list` variable called `data2`. The following syntax is an example of how to do this:\n",
        "\n",
        "\n",
        "```\n",
        "data1 = pandas_data1.values.tolist()\n",
        "```\n",
        "\n",
        "6. When you convert a `Pandas DataFrame` into a `list`, it brackets each individual element - we don't want that! To get around this issue, make a *Code Cell* that flattens `data1` and `data2` using the `numpy.squeeze()` function. Your first *Code Cell* imported the `NumPy` module as `np`, so we can use the following code to flatten `data1`:\n",
        "\n",
        "\n",
        "```\n",
        "data1 = np.squeeze(data1)\n",
        "```\n",
        "&nbsp;&nbsp;&nbsp;&nbsp;&nbsp;&nbsp;&nbsp;&nbsp;&nbsp;&nbsp;Repeat this for `data2`.\n",
        "\n",
        "7. Make a *Code Cell* that prints the length of `data1`.\n",
        "\n",
        "8. Make a *Code Cell* that prints the 3rd, 4th, 5th, and 6th elements of `data2`.\n",
        "\n",
        "9. Make a *Code Cell* that prints the second-to-last and last elements of `data1` (use negative indexing).\n",
        "\n",
        "10. Make a *Code Cell* that prints the `type` of `data2` by using the `type` function.\n",
        "\n",
        "11. The first *Code Cell* you ran imports a module called `matplotlib`. In a new *Code Cell*, use `matplotlib` to make a histogram of `data1`. You can use the syntax `plt.hist()` to do this (remember that the variable you are applying the function to goes inside of the parentheses).\n",
        "\n",
        "12. In a new *Code Cell*, re-make your histogram and use the `plt.xlabel()` and `plt.ylabel()` functions to label your axes.\n",
        "\n",
        "13. In a new *Code Cell*, follow the instructions in steps 11 and 12 to make another histogram with axis labels for `data2`.\n",
        "\n",
        "14. In a new *Markdown Cell*, write a brief description of any differences that you observe between your two histograms. Does one group of cells seem to have a higher/lower resting membrane potential than the other group of cells?\n",
        "\n",
        "15. In a new *Code Cell*, create a new variable called `data3`. Let `data3` be a list containing both `data1` and `data2`.\n",
        "\n",
        "16. Make a *Code Cell* that prints the last element of `data2`. You must index `data3` to do this.\n",
        "\n",
        "17. Save a copy of this notebook to your GitHub repo with the title \"coding_homework_1.pynb\"."
      ],
      "metadata": {
        "id": "R8xCV2iP1KZ_"
      }
    },
    {
      "cell_type": "code",
      "source": [
        "# Import matplotlib\n",
        "\n",
        "from matplotlib import pyplot as plt\n",
        "\n",
        "import pandas as pd\n",
        "\n",
        "import numpy as np"
      ],
      "metadata": {
        "id": "48IPWJIt59-Y"
      },
      "execution_count": 1,
      "outputs": []
    },
    {
      "cell_type": "markdown",
      "source": [
        "##HW 1\n",
        "###Isabelle Giorgis\n",
        "*NEUR 265: Neural Data Analysis*\n",
        "\n",
        "**2/5/24**\n"
      ],
      "metadata": {
        "id": "2-BjrHgs9NMZ"
      }
    },
    {
      "cell_type": "code",
      "source": [
        "# Converts v_rest_sst.csv & v_rest_pvalb.csv into PANDAS Dataframe\n",
        "\n",
        "url1 = 'https://raw.githubusercontent.com/giorgisi/giorgis-NEUR265/main/v_rest_sst.csv'\n",
        "pandas_data1 = pd.read_csv(url1)\n",
        "\n",
        "url2 = 'https://raw.githubusercontent.com/giorgisi/giorgis-NEUR265/main/v_rest_pvalb.csv'\n",
        "pandas_data2 = pd.read_csv(url2)\n",
        "\n",
        "#Converts PANDAS data to list\n",
        "\n",
        "data1 = pandas_data1.values.tolist()\n",
        "data2 = pandas_data2.values.tolist()\n",
        "\n",
        "#Flattens data (no more brackets) with Numpy\n",
        "\n",
        "data1 = np.squeeze(data1)\n",
        "data2 = np.squeeze(data2)\n"
      ],
      "metadata": {
        "id": "ivuHJuDY9xsL"
      },
      "execution_count": 9,
      "outputs": []
    },
    {
      "cell_type": "code",
      "source": [
        "#Prints length of data1\n",
        "print(len(data1))\n",
        "\n",
        "#Prints 3rd, 4th, 5th, and 6th elements of data2\n",
        "data2_elements = data2[1:5]\n",
        "print(data2_elements)\n",
        "\n",
        "#Prints 2nd to last and last elements of data 1\n",
        "print(data1[-2], data1[-1])"
      ],
      "metadata": {
        "id": "Mqw6J_OPAC-K",
        "outputId": "4b59607e-e96b-48af-81cb-d08396d72cb2",
        "colab": {
          "base_uri": "https://localhost:8080/"
        }
      },
      "execution_count": 20,
      "outputs": [
        {
          "output_type": "stream",
          "name": "stdout",
          "text": [
            "499\n",
            "[-75.71939359 -72.36807022 -63.09300825 -75.5469301 ]\n",
            "-65.59535842 -75.10678711\n"
          ]
        }
      ]
    },
    {
      "cell_type": "code",
      "source": [
        "#Plots data1\n",
        "\n",
        "plt.hist(data1)"
      ],
      "metadata": {
        "id": "I0GHLg0lECSk",
        "outputId": "46851b29-5c25-4b6d-b2db-8a7f6b374b8d",
        "colab": {
          "base_uri": "https://localhost:8080/",
          "height": 517
        }
      },
      "execution_count": 21,
      "outputs": [
        {
          "output_type": "execute_result",
          "data": {
            "text/plain": [
              "(array([  3.,   4.,  23.,  77., 125., 107.,  90.,  42.,  21.,   7.]),\n",
              " array([-88.07835484, -84.19758717, -80.31681949, -76.43605182,\n",
              "        -72.55528415, -68.67451648, -64.7937488 , -60.91298113,\n",
              "        -57.03221346, -53.15144578, -49.27067811]),\n",
              " <BarContainer object of 10 artists>)"
            ]
          },
          "metadata": {},
          "execution_count": 21
        },
        {
          "output_type": "display_data",
          "data": {
            "text/plain": [
              "<Figure size 640x480 with 1 Axes>"
            ],
            "image/png": "[encoded data removed]"
          },
          "metadata": {}
        }
      ]
    },
    {
      "cell_type": "code",
      "source": [
        "#Adds axis labels and re-plots data 1\n",
        "\n",
        "plt.xlabel('Resting Potential')\n",
        "plt.ylabel('Count')\n",
        "\n",
        "plt.hist(data1)"
      ],
      "metadata": {
        "id": "l9Qm_CCSEonD",
        "outputId": "ee1520f7-50a9-4a2c-b80a-9391729ceaaa",
        "colab": {
          "base_uri": "https://localhost:8080/",
          "height": 536
        }
      },
      "execution_count": 23,
      "outputs": [
        {
          "output_type": "execute_result",
          "data": {
            "text/plain": [
              "(array([  3.,   4.,  23.,  77., 125., 107.,  90.,  42.,  21.,   7.]),\n",
              " array([-88.07835484, -84.19758717, -80.31681949, -76.43605182,\n",
              "        -72.55528415, -68.67451648, -64.7937488 , -60.91298113,\n",
              "        -57.03221346, -53.15144578, -49.27067811]),\n",
              " <BarContainer object of 10 artists>)"
            ]
          },
          "metadata": {},
          "execution_count": 23
        },
        {
          "output_type": "display_data",
          "data": {
            "text/plain": [
              "<Figure size 640x480 with 1 Axes>"
            ],
            "image/png": "[encoded data removed]"
          },
          "metadata": {}
        }
      ]
    },
    {
      "cell_type": "code",
      "source": [
        "#Plots data2\n",
        "plt.hist(data2)"
      ],
      "metadata": {
        "id": "a8wLNkHoFR2j",
        "outputId": "12e4899f-9100-431d-9cdb-c88d92037e0a",
        "colab": {
          "base_uri": "https://localhost:8080/",
          "height": 517
        }
      },
      "execution_count": 24,
      "outputs": [
        {
          "output_type": "execute_result",
          "data": {
            "text/plain": [
              "(array([  7.,  28., 117., 148.,  96.,  66.,  26.,   6.,   4.,   1.]),\n",
              " array([-85.27155304, -81.26054661, -77.24954018, -73.23853375,\n",
              "        -69.22752732, -65.2165209 , -61.20551447, -57.19450804,\n",
              "        -53.18350161, -49.17249518, -45.16148875]),\n",
              " <BarContainer object of 10 artists>)"
            ]
          },
          "metadata": {},
          "execution_count": 24
        },
        {
          "output_type": "display_data",
          "data": {
            "text/plain": [
              "<Figure size 640x480 with 1 Axes>"
            ],
            "image/png": "[encoded data removed]"
          },
          "metadata": {}
        }
      ]
    },
    {
      "cell_type": "code",
      "source": [
        "#Adds axis labels and re-plots data2\n",
        "plt.xlabel('Resting Potential')\n",
        "plt.ylabel('Count')\n",
        "\n",
        "plt.hist(data2)"
      ],
      "metadata": {
        "id": "_hwJIZ_fFc6i",
        "outputId": "5fba6504-9649-4976-e95c-495000a682e9",
        "colab": {
          "base_uri": "https://localhost:8080/",
          "height": 536
        }
      },
      "execution_count": 25,
      "outputs": [
        {
          "output_type": "execute_result",
          "data": {
            "text/plain": [
              "(array([  7.,  28., 117., 148.,  96.,  66.,  26.,   6.,   4.,   1.]),\n",
              " array([-85.27155304, -81.26054661, -77.24954018, -73.23853375,\n",
              "        -69.22752732, -65.2165209 , -61.20551447, -57.19450804,\n",
              "        -53.18350161, -49.17249518, -45.16148875]),\n",
              " <BarContainer object of 10 artists>)"
            ]
          },
          "metadata": {},
          "execution_count": 25
        },
        {
          "output_type": "display_data",
          "data": {
            "text/plain": [
              "<Figure size 640x480 with 1 Axes>"
            ],
            "image/png": "[encoded data removed]"
          },
          "metadata": {}
        }
      ]
    },
    {
      "cell_type": "markdown",
      "source": [
        "###Data Analysis\n",
        "\n",
        "Both histograms had similar data ranges\n",
        "*   The data1 histogram has more counts in the -70 to -65 range, the data2 histogram is centered more in the -70 to -75 range\n",
        "*   Data 1 has a more even distribution while data 2 has a noticable left skew\n",
        "\n"
      ],
      "metadata": {
        "id": "0j10H9btFpZM"
      }
    },
    {
      "cell_type": "code",
      "source": [
        "#Defines data3 as a list with data1 and data2\n",
        "data3 = [data1, data2]\n",
        "\n",
        "#Prints last item of data2, from the data3 list\n",
        "print(data3[1][-1])"
      ],
      "metadata": {
        "id": "MJr62_q-GZ2y",
        "outputId": "cd66ef63-597f-454b-d648-bf27a29c6ed2",
        "colab": {
          "base_uri": "https://localhost:8080/"
        }
      },
      "execution_count": 28,
      "outputs": [
        {
          "output_type": "stream",
          "name": "stdout",
          "text": [
            "-54.08427915\n"
          ]
        }
      ]
    }
  ]
}